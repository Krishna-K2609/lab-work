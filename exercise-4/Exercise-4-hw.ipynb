{
 "cells": [
  {
   "cell_type": "markdown",
   "metadata": {},
   "source": [
    "# Homework\n",
    "\n",
    "## Question 1"
   ]
  },
  {
   "cell_type": "code",
   "execution_count": 1,
   "metadata": {
    "collapsed": false
   },
   "outputs": [
    {
     "name": "stdout",
     "output_type": "stream",
     "text": [
      "100\n",
      "101\n",
      "102\n",
      "103\n",
      "104\n",
      "105\n",
      "106\n",
      "107\n",
      "108\n",
      "109\n",
      "110\n"
     ]
    }
   ],
   "source": [
    "for number in range(100,111):\n",
    "    print(number)"
   ]
  },
  {
   "cell_type": "markdown",
   "metadata": {},
   "source": [
    "## Question 2"
   ]
  },
  {
   "cell_type": "code",
   "execution_count": 2,
   "metadata": {
    "collapsed": false
   },
   "outputs": [
    {
     "name": "stdout",
     "output_type": "stream",
     "text": [
      "100\n",
      "101\n",
      "102\n",
      "103\n",
      "104\n",
      "105\n",
      "106\n",
      "107\n",
      "108\n",
      "109\n",
      "110\n"
     ]
    }
   ],
   "source": [
    "current_number = 100\n",
    "while current_number < 111:\n",
    "    print(current_number)\n",
    "    current_number = current_number + 1"
   ]
  },
  {
   "cell_type": "markdown",
   "metadata": {},
   "source": [
    "## Question 3"
   ]
  },
  {
   "cell_type": "code",
   "execution_count": 3,
   "metadata": {
    "collapsed": false
   },
   "outputs": [
    {
     "name": "stdout",
     "output_type": "stream",
     "text": [
      "100\n",
      "121\n",
      "144\n",
      "169\n",
      "196\n",
      "225\n"
     ]
    }
   ],
   "source": [
    "# as for loop\n",
    "for number in range(10,16):\n",
    "    square = (number ** 2)\n",
    "    print(square)"
   ]
  },
  {
   "cell_type": "code",
   "execution_count": 4,
   "metadata": {
    "collapsed": false
   },
   "outputs": [
    {
     "name": "stdout",
     "output_type": "stream",
     "text": [
      "100\n",
      "121\n",
      "144\n",
      "169\n",
      "196\n",
      "225\n"
     ]
    }
   ],
   "source": [
    "# as while loop\n",
    "number = 10\n",
    "while number < 16:\n",
    "    square = (number ** 2)\n",
    "    number = number + 1\n",
    "    print(square)"
   ]
  },
  {
   "cell_type": "markdown",
   "metadata": {},
   "source": [
    "## Question 4"
   ]
  },
  {
   "cell_type": "code",
   "execution_count": 10,
   "metadata": {
    "collapsed": false
   },
   "outputs": [
    {
     "name": "stdout",
     "output_type": "stream",
     "text": [
      "Scooby is a character in that most glorious of cartoons, Scooby Doo.\n",
      "\n",
      "\n",
      "Shaggy is a character in that most glorious of cartoons, Scooby Doo.\n",
      "\n",
      "\n",
      "Velma is a character in that most glorious of cartoons, Scooby Doo.\n",
      "\n",
      "\n",
      "Daphne is a character in that most glorious of cartoons, Scooby Doo.\n",
      "\n",
      "\n",
      "Fred is a character in that most glorious of cartoons, Scooby Doo.\n",
      "\n",
      "\n"
     ]
    }
   ],
   "source": [
    "for names in [\"Scooby\", \"Shaggy\", \"Velma\", \"Daphne\", \"Fred\"]:\n",
    "    print(names + \" is a character in that most glorious of cartoons, Scooby Doo.\")\n",
    "    print(\"\\n\") #printing a blank line; not necessary but the list looks less cluttered\n"
   ]
  },
  {
   "cell_type": "markdown",
   "metadata": {},
   "source": [
    "## Question 5"
   ]
  },
  {
   "cell_type": "code",
   "execution_count": 35,
   "metadata": {
    "collapsed": false
   },
   "outputs": [
    {
     "name": "stdout",
     "output_type": "stream",
     "text": [
      "0\n",
      "720\n",
      "720\n",
      "91\n",
      "91\n",
      "Sorry, function does not work for negative numbers.\n"
     ]
    }
   ],
   "source": [
    "# Option using 'def'\n",
    "\n",
    "def fact_or_sum(int): # 'int' makes sure that the function returns an error message when a non-integer is provided.\n",
    "    if int == 0:\n",
    "        return(\"0\")\n",
    "    # specified in task: input 0 returns 0\n",
    "    elif int < 0:\n",
    "        return(\"Sorry, function does not work for negative numbers.\")\n",
    "    elif int % 2 == 0:\n",
    "    # using modulo to identify even numbers\n",
    "        factorial = 1\n",
    "        for number in range(1, int + 1):\n",
    "            factorial *= number\n",
    "        return factorial\n",
    "    else:\n",
    "    # don't need modulo because odd integers are the only remaining option\n",
    "        Sum = 0\n",
    "        while(int > 0):\n",
    "            Sum += int\n",
    "            int -= 1\n",
    "        return Sum\n",
    "        \n",
    "# testing whether function works as expected\n",
    "print(fact_or_sum(0)) # fact_or_sum prints 0 when input is 0\n",
    "print(fact_or_sum(6)) # prints a factorial when input is even\n",
    "print(6*5*4*3*2*1) # double-check\n",
    "print(fact_or_sum(13)) # prints sum when input is odd number\n",
    "print(13+12+11+10+9+8+7+6+5+4+3+2+1) # double-check\n",
    "print(fact_or_sum(-1)) # error for negative numbers\n"
   ]
  },
  {
   "cell_type": "code",
   "execution_count": 37,
   "metadata": {
    "collapsed": false
   },
   "outputs": [
    {
     "name": "stdout",
     "output_type": "stream",
     "text": [
      "Write a positive integer and find out what happens: 9\n",
      "The sum of is 45\n"
     ]
    }
   ],
   "source": [
    "# Alternative option with a cool 'input' function\n",
    "\n",
    "user = int(input(\"Write a positive integer and find out what happens: \")) \n",
    "# int makes sure that the program returns an error message if the user inputs a non-integer value, \n",
    "# including 'float' and 'string' values\n",
    "\n",
    "if user < 0:\n",
    "    print(\"Sorry, the function does not work for negative numbers\")\n",
    "elif user == 0:\n",
    "    print(0)\n",
    "elif user % 2 == 0: # using modulo to identify whether the integer is even\n",
    "    factorial = 1 # used to define the last value to be multiplied in the for loop\n",
    "    for number in range(1, user + 1):\n",
    "        factorial = factorial*number\n",
    "    print(\"The factorial of\",user,\"is\",factorial)\n",
    "else: # modulo is no longer needed to identify odd numbers as that was done in the 'elif' section above\n",
    "    Sum = 0\n",
    "    while(user > 0):\n",
    "        Sum += user\n",
    "        user -= 1\n",
    "    print(\"The sum is\",Sum)\n"
   ]
  },
  {
   "cell_type": "code",
   "execution_count": null,
   "metadata": {
    "collapsed": true
   },
   "outputs": [],
   "source": []
  }
 ],
 "metadata": {
  "anaconda-cloud": {},
  "kernelspec": {
   "display_name": "Python [conda root]",
   "language": "python",
   "name": "conda-root-py"
  },
  "language_info": {
   "codemirror_mode": {
    "name": "ipython",
    "version": 3
   },
   "file_extension": ".py",
   "mimetype": "text/x-python",
   "name": "python",
   "nbconvert_exporter": "python",
   "pygments_lexer": "ipython3",
   "version": "3.5.2"
  }
 },
 "nbformat": 4,
 "nbformat_minor": 2
}
