{
 "cells": [
  {
   "cell_type": "code",
   "execution_count": 8,
   "metadata": {
    "collapsed": false
   },
   "outputs": [],
   "source": [
    "# read file\n",
    "in_file = open(\"/home/eeb177-student/Desktop/eeb177/class-assignments/classwork-Tuesday-2-21/cocoli.txt\", \"r\")\n",
    "\n",
    "# make dictionaries of DBH at each census\n",
    "sizes_94 = {}\n",
    "sizes_97 = {}\n",
    "sizes_98 = {}\n",
    "\n",
    "# remove header row\n",
    "in_file.readline()\n",
    "\n",
    "# for loop to retrieve relevant columns using subsequent lines, one at a time (because we are using readline above)\n",
    "for line in in_file:\n",
    "    items = line.split()\n",
    "    tree_id = items[0]\n",
    "    s94 = float(items[4])\n",
    "    s97 = float(items[5])\n",
    "    s98 = float(items[6])\n",
    "    \n",
    "    #populate dictionaries\n",
    "    sizes_94[tree_id] = s94\n",
    "    sizes_97[tree_id] = s97\n",
    "    sizes_98[tree_id] = s98\n",
    "\n",
    "in_file.close() # this is needed at the end unless using \"with\""
   ]
  },
  {
   "cell_type": "code",
   "execution_count": 9,
   "metadata": {
    "collapsed": false
   },
   "outputs": [
    {
     "data": {
      "text/plain": [
       "float"
      ]
     },
     "execution_count": 9,
     "metadata": {},
     "output_type": "execute_result"
    }
   ],
   "source": [
    "# check that the sizes are indeed stored as float numbers\n",
    "type(sizes_94[\"000021\"])"
   ]
  },
  {
   "cell_type": "code",
   "execution_count": 18,
   "metadata": {
    "collapsed": false
   },
   "outputs": [
    {
     "data": {
      "image/png": "[encoded data removed]",
      "text/plain": [
       "<matplotlib.figure.Figure at 0x7fb3c8ab4f28>"
      ]
     },
     "metadata": {},
     "output_type": "display_data"
    }
   ],
   "source": [
    "# import modules\n",
    "import matplotlib.pyplot as plt\n",
    "\n",
    "# making a histogram of DBHs in 1994\n",
    "# plt only works on lists so we'll convert the dictionary to a list \n",
    "sizes_in_1994 = list(sizes_94.values())\n",
    "plt.hist(sizes_in_1994, log = True) # exponential transformation with log = True\n",
    "plt.show()"
   ]
  },
  {
   "cell_type": "code",
   "execution_count": null,
   "metadata": {
    "collapsed": true
   },
   "outputs": [],
   "source": []
  }
 ],
 "metadata": {
  "anaconda-cloud": {},
  "kernelspec": {
   "display_name": "Python [conda root]",
   "language": "python",
   "name": "conda-root-py"
  },
  "language_info": {
   "codemirror_mode": {
    "name": "ipython",
    "version": 3
   },
   "file_extension": ".py",
   "mimetype": "text/x-python",
   "name": "python",
   "nbconvert_exporter": "python",
   "pygments_lexer": "ipython3",
   "version": "3.5.2"
  }
 },
 "nbformat": 4,
 "nbformat_minor": 2
}
