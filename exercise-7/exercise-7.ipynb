{
 "cells": [
  {
   "cell_type": "code",
   "execution_count": 8,
   "metadata": {
    "collapsed": false
   },
   "outputs": [],
   "source": [
    "# read file\n",
    "in_file = open(\"/home/eeb177-student/Desktop/eeb177/class-assignments/classwork-Tuesday-2-21/cocoli.txt\", \"r\")\n",
    "\n",
    "# make dictionaries of DBH at each census\n",
    "sizes_94 = {}\n",
    "sizes_97 = {}\n",
    "sizes_98 = {}\n",
    "\n",
    "# remove header row\n",
    "in_file.readline()\n",
    "\n",
    "# for loop to retrieve relevant columns using subsequent lines, one at a time (because we are using readline above)\n",
    "for line in in_file:\n",
    "    items = line.split()\n",
    "    tree_id = items[0]\n",
    "    s94 = float(items[4])\n",
    "    s97 = float(items[5])\n",
    "    s98 = float(items[6])\n",
    "    \n",
    "    #populate dictionaries\n",
    "    sizes_94[tree_id] = s94\n",
    "    sizes_97[tree_id] = s97\n",
    "    sizes_98[tree_id] = s98\n",
    "\n",
    "in_file.close() # this is needed at the end unless using \"with\""
   ]
  },
  {
   "cell_type": "code",
   "execution_count": 9,
   "metadata": {
    "collapsed": false
   },
   "outputs": [
    {
     "data": {
      "text/plain": [
       "float"
      ]
     },
     "execution_count": 9,
     "metadata": {},
     "output_type": "execute_result"
    }
   ],
   "source": [
    "# check that the sizes are indeed stored as float numbers\n",
    "type(sizes_94[\"000021\"])"
   ]
  },
  {
   "cell_type": "code",
   "execution_count": 40,
   "metadata": {
    "collapsed": false
   },
   "outputs": [
    {
     "data": {
      "image/png": "[encoded data removed]",
      "text/plain": [
       "<matplotlib.figure.Figure at 0x7fb3c8514748>"
      ]
     },
     "metadata": {},
     "output_type": "display_data"
    }
   ],
   "source": [
    "# creating a histogram\n",
    "\n",
    "# import modules\n",
    "import matplotlib.pyplot as plt\n",
    "\n",
    "# making a histogram of DBHs in 1994\n",
    "# plt only works on lists so we'll convert the dictionary to a list \n",
    "sizes_in_1994 = list(sizes_94.values())\n",
    "plt.hist(sizes_in_1994, log = True) # exponential transformation with log = True\n",
    "plt.show()"
   ]
  },
  {
   "cell_type": "code",
   "execution_count": 42,
   "metadata": {
    "collapsed": false
   },
   "outputs": [
    {
     "data": {
      "image/png": "[encoded data removed]",
      "text/plain": [
       "<matplotlib.figure.Figure at 0x7fb3c86e4dd8>"
      ]
     },
     "metadata": {},
     "output_type": "display_data"
    }
   ],
   "source": [
    "# creating two histograms for side-by-side comparisons\n",
    "sizes_in_1998 = list(sizes_98.values())\n",
    "sizes_in_1997 = list(sizes_97.values())\n",
    "\n",
    "f, (ax1, ax2) = plt.subplots(1, 2, sharex = True, sharey = True) # sharex - share same x axis in the two plots\n",
    "ax1.hist(sizes_in_1994, log = True)\n",
    "ax1.set_title(\"Histogram in 1994\")\n",
    "ax2.hist(sizes_in_1998, log = True)\n",
    "ax2.set_title(\"Histogram in 1998\")\n",
    "plt.show()"
   ]
  },
  {
   "cell_type": "code",
   "execution_count": 29,
   "metadata": {
    "collapsed": false
   },
   "outputs": [],
   "source": [
    "# f, (ax1, ax2) = plt.subplots(1, 2, sharex = True, sharey = True) # sharex - share same x axis in the two plots\n",
    "# ax1.hist(sizes_in_1997, log = True)\n",
    "# ax1.set_title(\"Histogram in 1997\")\n",
    "# ax2.hist(sizes_in_1998, log = True)\n",
    "# ax2.set_title(\"Histogram in 1998\")\n",
    "# plt.show()"
   ]
  },
  {
   "cell_type": "code",
   "execution_count": 37,
   "metadata": {
    "collapsed": false
   },
   "outputs": [],
   "source": [
    "# sizes_in_1994[:] = (value for value in sizes_in_1994 if value != -2) \n",
    "# # for each value in the list sizes_in_1994, if the value is not -2 then return value and populate into the list\n",
    "\n",
    "# sizes_in_1997[:] = (value for value in sizes_in_1997 if value > 0) \n",
    "\n",
    "# sizes_in_1998[:] = (value for value in sizes_in_1998 if value > 0) "
   ]
  },
  {
   "cell_type": "code",
   "execution_count": 38,
   "metadata": {
    "collapsed": false
   },
   "outputs": [
    {
     "data": {
      "image/png": "[encoded data removed]",
      "text/plain": [
       "<matplotlib.figure.Figure at 0x7fb3cb38d438>"
      ]
     },
     "metadata": {},
     "output_type": "display_data"
    }
   ],
   "source": [
    "plt.hist(sizes_in_1998, log = False) # exponential transformation with log = True not used here\n",
    "plt.show()"
   ]
  },
  {
   "cell_type": "code",
   "execution_count": 49,
   "metadata": {
    "collapsed": false
   },
   "outputs": [
    {
     "data": {
      "image/png": "[encoded data removed]",
      "text/plain": [
       "<matplotlib.figure.Figure at 0x7fb3c8395c18>"
      ]
     },
     "metadata": {},
     "output_type": "display_data"
    }
   ],
   "source": [
    "# doing a scatterplot; need to keep -2 and -1 values\n",
    "\n",
    "plt.plot(sizes_in_1994, sizes_in_1998, 'go') # go refers to green circles representing the data\n",
    "plt.show()"
   ]
  },
  {
   "cell_type": "code",
   "execution_count": null,
   "metadata": {
    "collapsed": true
   },
   "outputs": [],
   "source": []
  }
 ],
 "metadata": {
  "anaconda-cloud": {},
  "kernelspec": {
   "display_name": "Python [conda root]",
   "language": "python",
   "name": "conda-root-py"
  },
  "language_info": {
   "codemirror_mode": {
    "name": "ipython",
    "version": 3
   },
   "file_extension": ".py",
   "mimetype": "text/x-python",
   "name": "python",
   "nbconvert_exporter": "python",
   "pygments_lexer": "ipython3",
   "version": "3.5.2"
  }
 },
 "nbformat": 4,
 "nbformat_minor": 2
}
