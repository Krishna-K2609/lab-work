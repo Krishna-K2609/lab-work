{
 "cells": [
  {
   "cell_type": "markdown",
   "metadata": {},
   "source": [
    "**Question 1. How many fossil occurrences are in the dataset?**\n",
    "```\n",
    "tail -n+2 canid_occ.csv | cut -d \",\" -f \"1\" | wc -l\n",
    "```\n",
    "*There are 2,946 occurrences.*\n",
    "\n",
    "**Question 2. How many fossils have been identified to genus-level only? How many to species-level?**\n",
    "```\n",
    "tail -n+2 canid_occ.csv | cut -d \",\" -f \"7\" | sort | uniq -c\n",
    "```\n",
    "*2,106 fossils have been identified to the species level, and 607 at the genus level.*\n",
    "\n",
    "**Question 3. How many unique accepted names are part of this dataset?**\n",
    "\n",
    "```\n",
    "tail -n+2 canid_occ.csv | cut -d \",\" -f \"6\" | sort | uniq | wc -l\n",
    "```\n",
    "*211 unique accepted names.*"
   ]
  },
  {
   "cell_type": "markdown",
   "metadata": {},
   "source": [
    "**Question 1. How can we change the sampling frequency of our PyRate run?**\n",
    "*Using -s and changing the number from 1000 to the desired frequency.*\n",
    "\n",
    "**Question 2. What does the -n flag achieve?**\n",
    "*It changes the mcmc generations.*"
   ]
  },
  {
   "cell_type": "code",
   "execution_count": null,
   "metadata": {
    "collapsed": true
   },
   "outputs": [],
   "source": []
  }
 ],
 "metadata": {
  "anaconda-cloud": {},
  "kernelspec": {
   "display_name": "Python [conda root]",
   "language": "python",
   "name": "conda-root-py"
  },
  "language_info": {
   "codemirror_mode": {
    "name": "ipython",
    "version": 3
   },
   "file_extension": ".py",
   "mimetype": "text/x-python",
   "name": "python",
   "nbconvert_exporter": "python",
   "pygments_lexer": "ipython3",
   "version": "3.5.2"
  }
 },
 "nbformat": 4,
 "nbformat_minor": 2
}
