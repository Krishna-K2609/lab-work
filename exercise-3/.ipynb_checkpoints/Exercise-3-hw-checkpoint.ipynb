{
 "cells": [
  {
   "cell_type": "code",
   "execution_count": 1,
   "metadata": {
    "collapsed": false
   },
   "outputs": [
    {
     "name": "stdout",
     "output_type": "stream",
     "text": [
      "20\n",
      "elephant\n",
      "3\n"
     ]
    }
   ],
   "source": [
    "# Question 2\n",
    "\n",
    "a = 3\n",
    "b = 17\n",
    "c = a + b\n",
    "print(c)\n",
    "\n",
    "favorite_animal = \"elephant\"\n",
    "print(favorite_animal)\n",
    "\n",
    "favorite_dinners = \"fruit\",\"pizza\",\"pad thai\"\n",
    "num_fav_dinners = len(favorite_dinners)\n",
    "print(num_fav_dinners)"
   ]
  },
  {
   "cell_type": "code",
   "execution_count": 2,
   "metadata": {
    "collapsed": false
   },
   "outputs": [
    {
     "data": {
      "text/plain": [
       "'What a pleasant temperature!'"
      ]
     },
     "execution_count": 2,
     "metadata": {},
     "output_type": "execute_result"
    }
   ],
   "source": [
    "# Question 3\n",
    "\n",
    "def hw3_function(int):\n",
    "    if int <5:\n",
    "        return (\"Brr! It's cold!\")\n",
    "    elif int >25:\n",
    "        return (\"It's pretty warm!\")\n",
    "    else:\n",
    "        return (\"What a pleasant temperature!\")\n",
    "\n",
    "# test\n",
    "hw3_function(6)\n"
   ]
  },
  {
   "cell_type": "code",
   "execution_count": null,
   "metadata": {
    "collapsed": false
   },
   "outputs": [
    {
     "name": "stdout",
     "output_type": "stream",
     "text": [
      "nothing found\n"
     ]
    }
   ],
   "source": [
    "# Question 4\n",
    "\n",
    "dna = \"ATAATTAACGGAGCTTATTA\"\n",
    "\n",
    "# Finding if the following pattern exists in the DNA string: G, A or T, A or T, G, A or T or G or C\n",
    "\n",
    "import re\n",
    "if re.search(r\"G(A|T)(A|T)G(A|T|G|C)\", dna):\n",
    "    print(\"found\")\n",
    "else:\n",
    "    print(\"nothing found\")\n",
    "    \n",
    "# The pattern does not exist"
   ]
  },
  {
   "cell_type": "code",
   "execution_count": null,
   "metadata": {
    "collapsed": false
   },
   "outputs": [],
   "source": [
    "# Question 5\n",
    "# Developing a rock, paper, scissors computer game.\n",
    "\n",
    "import random;\n",
    "\n",
    "player = input(\"Enter your choice (rock/paper/scissors): \")\n",
    "while (player != \"rock\" and player != \"paper\" and player != \"scissors\"):\n",
    "    print(player)\n",
    "    player = input(\"That is not a valid choice; check your spelling and enter your choice (rock/paper/scissors): \")\n",
    "\n",
    "\n",
    "rps = [\"rock\", \"paper\", \"scissors\"]\n",
    "comp = random.choice(rps)\n",
    "\n",
    "if (player == comp):\n",
    "    print(\"You picked \" + str(player) + \"; Computer picked \" + str(comp) + \"; this is a tie!\")\n",
    "elif (player == \"rock\"):\n",
    "    if (comp == \"paper\"):\n",
    "        print(\"You picked rock; Computer picked paper; +1 for Computer!\")\n",
    "    else:\n",
    "        print(\"You picked rock; Computer picked scissors; +1 for You!\")\n",
    "elif (player == \"paper\"):\n",
    "    if (comp == \"scissors\"):\n",
    "        print(\"You picked paper; Computer picked scissors; +1 for Computer!\")\n",
    "    else:\n",
    "        print(\"You picked paper; Computer picked rock; +1 for You!\")\n",
    "elif (player == \"scissors\"):\n",
    "    if (comp == \"rock\"):\n",
    "        print(\"You picked scissors; Computer picked rock; +1 for Computer!\")\n",
    "    else:\n",
    "        print(\"You picked scissors; Computer picked paper; +1 for You!\")\n"
   ]
  },
  {
   "cell_type": "code",
   "execution_count": null,
   "metadata": {
    "collapsed": true
   },
   "outputs": [],
   "source": []
  }
 ],
 "metadata": {
  "anaconda-cloud": {},
  "kernelspec": {
   "display_name": "Python [default]",
   "language": "python",
   "name": "python3"
  },
  "language_info": {
   "codemirror_mode": {
    "name": "ipython",
    "version": 3
   },
   "file_extension": ".py",
   "mimetype": "text/x-python",
   "name": "python",
   "nbconvert_exporter": "python",
   "pygments_lexer": "ipython3",
   "version": "3.5.2"
  }
 },
 "nbformat": 4,
 "nbformat_minor": 2
}
